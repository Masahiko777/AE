{
  "nbformat": 4,
  "nbformat_minor": 0,
  "metadata": {
    "colab": {
      "name": "20220619_ae_rom.ipynb",
      "provenance": [],
      "collapsed_sections": [],
      "authorship_tag": "ABX9TyNtmosuCMnCaD8G50JKpJ7v",
      "include_colab_link": true
    },
    "kernelspec": {
      "name": "python3",
      "display_name": "Python 3"
    },
    "language_info": {
      "name": "python"
    }
  },
  "cells": [
    {
      "cell_type": "markdown",
      "metadata": {
        "id": "view-in-github",
        "colab_type": "text"
      },
      "source": [
        "<a href=\"https://colab.research.google.com/github/Masahiko777/AE/blob/master/20220619_ae_rom.ipynb\" target=\"_parent\"><img src=\"https://colab.research.google.com/assets/colab-badge.svg\" alt=\"Open In Colab\"/></a>"
      ]
    },
    {
      "cell_type": "markdown",
      "source": [
        "ライブラリインポート"
      ],
      "metadata": {
        "id": "Snv1nfuEmlIn"
      }
    },
    {
      "cell_type": "code",
      "source": [
        "import matplotlib.pyplot as plt\n",
        "import numpy as np\n",
        "from numpy.linalg import svd, matrix_rank\n",
        "import numpy.linalg as LA\n",
        "import pandas as pd\n",
        "import tensorflow as tf"
      ],
      "metadata": {
        "id": "en2zmPWImjHz"
      },
      "execution_count": null,
      "outputs": []
    },
    {
      "cell_type": "markdown",
      "source": [
        "初期値設定"
      ],
      "metadata": {
        "id": "cXHZ8ma2my32"
      }
    },
    {
      "cell_type": "code",
      "source": [
        "# 時間設定\n",
        "T = 50    # 計算時間[s]\n",
        "n = 500   # 分割\n",
        "Dt = T/n  # 時間ステップ[s]\n",
        "print(\"Time:\", T, \" [s], Interval:\", n, \"[-], Dt:\", Dt, \"[s]\")\n",
        "\n",
        "# 次元設定\n",
        "dof = 5   # 自由度\n",
        "rdof = 5  # 低次元モデル次元\n",
        "print(\"DOF:\", dof, \", ReducedDOF:\", rdof)\n",
        "\n",
        "# 状態量設定（初期化）\n",
        "x    = np.zeros([dof, n])\n",
        "x_re = np.zeros([dof, n])\n",
        "x_ae = np.zeros([dof, n])\n",
        "t    = np.zeros([n, 1])\n",
        "print(\"Shape: State x:\", x.shape, \", Time t:\", t.shape)\n",
        "# 状態量設定（初期値の設定）\n",
        "x[0][0]    = 0.1 # 0番目の要素の初期位置（x[1][0]は，1番目の要素の初期位置）\n",
        "x_re[0][0] = 0.1\n",
        "print(\"Initial x[0][0]:\", x[0][0], \"[m], Time t[0]:\", t[0][0])\n",
        "\n",
        "# 質量・ばね定数の設定\n",
        "## linearの場合\n",
        "linear_flag = 1\n",
        "mmm = 1.0;\n",
        "alp = 1.0; \n",
        "## non-linearの場合\n",
        "\"\"\"\n",
        "linear_flag = 0\n",
        "mmm = 1.0e-3;\n",
        "alp = 1.0e-3;  # 圧縮剛性係数\n",
        "\"\"\"\n",
        "\n",
        "# 質量マトリクス\n",
        "## 質量マトリクスの対角成分の各要素の設定\n",
        "m = np.zeros([dof, 1])\n",
        "for i in range(dof):\n",
        "  m[i] = mmm\n",
        "\n",
        "# ばね定数\n",
        "k = 1.0\n",
        "print(\"Shape: Mass Matrix\", m.shape, \", Mass m: \", mmm,\", Spring Constant k:\", k)"
      ],
      "metadata": {
        "id": "bmZn1arlmg41"
      },
      "execution_count": null,
      "outputs": []
    }
  ]
}